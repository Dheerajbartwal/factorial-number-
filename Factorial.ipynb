{
 "cells": [
  {
   "cell_type": "markdown",
   "id": "4f21a543",
   "metadata": {},
   "source": [
    "Calculating Factorial"
   ]
  },
  {
   "cell_type": "markdown",
   "id": "185ac322",
   "metadata": {},
   "source": [
    "# Without Function"
   ]
  },
  {
   "cell_type": "code",
   "execution_count": 16,
   "id": "a9a64021",
   "metadata": {},
   "outputs": [
    {
     "name": "stdout",
     "output_type": "stream",
     "text": [
      "Enter the number you want to calculate factorial : 5\n",
      "120\n"
     ]
    }
   ],
   "source": [
    "number = int(input('Enter the number you want to calculate factorial : '))\n",
    "fact = 1\n",
    "for i in range(number):\n",
    "    i = i+1\n",
    "    fact =  fact*i\n",
    "    \n",
    "print(fact)\n"
   ]
  },
  {
   "cell_type": "markdown",
   "id": "8be2663c",
   "metadata": {},
   "source": [
    "# With Function"
   ]
  },
  {
   "cell_type": "code",
   "execution_count": 20,
   "id": "4bebe89b",
   "metadata": {},
   "outputs": [
    {
     "data": {
      "text/plain": [
       "120"
      ]
     },
     "execution_count": 20,
     "metadata": {},
     "output_type": "execute_result"
    }
   ],
   "source": [
    "def factorial(n):\n",
    "    fact = 1\n",
    "    for i in range(n):\n",
    "        i = i+1\n",
    "        fact = fact*i\n",
    "    return fact\n",
    "\n",
    "factorial(5)\n",
    "    "
   ]
  },
  {
   "cell_type": "markdown",
   "id": "f84656fd",
   "metadata": {},
   "source": [
    "# Using Recursion"
   ]
  },
  {
   "cell_type": "code",
   "execution_count": 21,
   "id": "b6d36fa7",
   "metadata": {},
   "outputs": [
    {
     "data": {
      "text/plain": [
       "120"
      ]
     },
     "execution_count": 21,
     "metadata": {},
     "output_type": "execute_result"
    }
   ],
   "source": [
    "def factorial(n):\n",
    "    if n==0 or n==1:\n",
    "        return 1\n",
    "    else:\n",
    "        return factorial(n-1)*n\n",
    "    \n",
    "factorial(5)"
   ]
  }
 ],
 "metadata": {
  "kernelspec": {
   "display_name": "Python 3 (ipykernel)",
   "language": "python",
   "name": "python3"
  },
  "language_info": {
   "codemirror_mode": {
    "name": "ipython",
    "version": 3
   },
   "file_extension": ".py",
   "mimetype": "text/x-python",
   "name": "python",
   "nbconvert_exporter": "python",
   "pygments_lexer": "ipython3",
   "version": "3.9.12"
  }
 },
 "nbformat": 4,
 "nbformat_minor": 5
}
